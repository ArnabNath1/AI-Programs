{
 "cells": [
  {
   "cell_type": "code",
   "execution_count": 4,
   "id": "fe27ee42",
   "metadata": {},
   "outputs": [
    {
     "name": "stdout",
     "output_type": "stream",
     "text": [
      "Solution found: [1, 1, 1, 1, 1, 1, 1, 1, 1, 1]\n"
     ]
    }
   ],
   "source": [
    "import random\n",
    "\n",
    "# Define the fitness function\n",
    "def fitness_function(chromosome):\n",
    "    return sum(chromosome)\n",
    "\n",
    "# Define the genetic algorithm\n",
    "def genetic_algorithm(population_size, chromosome_length, fitness_function, mutation_probability=0.1):\n",
    "    # Initialize the population with random chromosomes\n",
    "    population = [[random.randint(0, 1) for j in range(chromosome_length)] for i in range(population_size)]\n",
    "    \n",
    "    # Loop until a satisfactory solution is found\n",
    "    while True:\n",
    "        # Evaluate the fitness of each chromosome in the population\n",
    "        fitness_values = [fitness_function(chromosome) for chromosome in population]\n",
    "        \n",
    "        # Select the fittest chromosomes to be the parents of the next generation\n",
    "        parents = [population[i] for i in range(population_size) if fitness_values[i] == max(fitness_values)]\n",
    "        \n",
    "        # Generate the next generation by applying crossover and mutation to the parents\n",
    "        next_generation = []\n",
    "        while len(next_generation) < population_size:\n",
    "            parent1 = random.choice(parents)\n",
    "            parent2 = random.choice(parents)\n",
    "            crossover_point = random.randint(1, chromosome_length - 1)\n",
    "            child = parent1[:crossover_point] + parent2[crossover_point:]\n",
    "            for i in range(chromosome_length):\n",
    "                if random.random() < mutation_probability:\n",
    "                    child[i] = 1 - child[i]\n",
    "            next_generation.append(child)\n",
    "        \n",
    "        # Update the population with the next generation\n",
    "        population = next_generation\n",
    "        \n",
    "        # Check if a satisfactory solution has been found\n",
    "        if max(fitness_values) == chromosome_length:\n",
    "            return parents[0]\n",
    "\n",
    "# Example usage\n",
    "chromosome_length = 10\n",
    "population_size = 50\n",
    "solution = genetic_algorithm(population_size, chromosome_length, fitness_function)\n",
    "print(\"Solution found:\", solution)\n"
   ]
  }
 ],
 "metadata": {
  "kernelspec": {
   "display_name": "Python 3 (ipykernel)",
   "language": "python",
   "name": "python3"
  },
  "language_info": {
   "codemirror_mode": {
    "name": "ipython",
    "version": 3
   },
   "file_extension": ".py",
   "mimetype": "text/x-python",
   "name": "python",
   "nbconvert_exporter": "python",
   "pygments_lexer": "ipython3",
   "version": "3.9.13"
  }
 },
 "nbformat": 4,
 "nbformat_minor": 5
}
